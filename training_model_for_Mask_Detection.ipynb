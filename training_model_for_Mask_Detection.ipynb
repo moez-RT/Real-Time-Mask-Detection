{
  "nbformat": 4,
  "nbformat_minor": 0,
  "metadata": {
    "colab": {
      "name": "Face Mask Detection.ipynb",
      "provenance": [],
      "collapsed_sections": []
    },
    "kernelspec": {
      "name": "python3",
      "display_name": "Python 3"
    },
    "accelerator": "GPU"
  },
  "cells": [
    {
      "cell_type": "markdown",
      "metadata": {
        "id": "HtqfdJTs8PQK"
      },
      "source": [
        "# ***Very Important download dataset from this link before persuing the execution of cells***"
      ]
    },
    {
      "cell_type": "markdown",
      "metadata": {
        "id": "iXcGG2lj8cNx"
      },
      "source": [
        "https://drive.google.com/drive/folders/1-62-gtVRANF5a5ylnFrYO1Y--q-OiFgr"
      ]
    },
    {
      "cell_type": "markdown",
      "metadata": {
        "id": "KcmVPuCoq8Sz"
      },
      "source": [
        "# **Import the necessary packages**\r\n"
      ]
    },
    {
      "cell_type": "code",
      "metadata": {
        "id": "svb-HcHknYAi"
      },
      "source": [
        "from tensorflow.keras.preprocessing.image import ImageDataGenerator\r\n",
        "from tensorflow.keras.applications import MobileNetV2\r\n",
        "from tensorflow.keras.layers import AveragePooling2D\r\n",
        "from tensorflow.keras.layers import Dropout\r\n",
        "from tensorflow.keras.layers import Flatten\r\n",
        "from tensorflow.keras.layers import Dense\r\n",
        "from tensorflow.keras.layers import Input\r\n",
        "from tensorflow.keras.models import Model\r\n",
        "from tensorflow.keras.optimizers import Adam\r\n",
        "from tensorflow.keras.applications.mobilenet_v2 import preprocess_input\r\n",
        "from tensorflow.keras.preprocessing.image import img_to_array\r\n",
        "from tensorflow.keras.preprocessing.image import load_img\r\n",
        "from tensorflow.keras.utils import to_categorical\r\n",
        "from sklearn.preprocessing import LabelBinarizer\r\n",
        "from sklearn.model_selection import train_test_split\r\n",
        "from sklearn.metrics import classification_report\r\n",
        "from imutils import paths\r\n",
        "import matplotlib.pyplot as plt\r\n",
        "import numpy as np\r\n",
        "import os"
      ],
      "execution_count": 3,
      "outputs": []
    },
    {
      "cell_type": "markdown",
      "metadata": {
        "id": "zbdu6AO7rEMb"
      },
      "source": [
        "# **Initialize the initial learning rate, number of epochs to train for, and batch size**\r\n"
      ]
    },
    {
      "cell_type": "code",
      "metadata": {
        "id": "htkJfRvJpgIK"
      },
      "source": [
        "INIT_LR = 1e-4\r\n",
        "# You can play with the number of epochs but 15 is enough\r\n",
        "# because we are usinga pretained model as base model\r\n",
        "EPOCHS = 15\r\n",
        "BS = 32\r\n"
      ],
      "execution_count": 27,
      "outputs": []
    },
    {
      "cell_type": "code",
      "metadata": {
        "id": "nrVUi7THpiNl"
      },
      "source": [
        "# Loop through the datasets inside the directory.\r\n",
        "DIRECTORY = r\"Face-Mask-Detection/dataset\"\r\n",
        "CATEGORIES = [\"with_mask\", \"without_mask\"]\r\n"
      ],
      "execution_count": 5,
      "outputs": []
    },
    {
      "cell_type": "code",
      "metadata": {
        "colab": {
          "base_uri": "https://localhost:8080/"
        },
        "id": "OPi9O5sepnP8",
        "outputId": "ce2ec17c-f4fd-49e0-dba4-bbec461aca7e"
      },
      "source": [
        "# grab the list of images in our dataset directory, then initialize\r\n",
        "# the list of data (i.e., images) and class images\r\n",
        "print(\"[INFO] loading images...\")"
      ],
      "execution_count": 6,
      "outputs": [
        {
          "output_type": "stream",
          "text": [
            "[INFO] loading images...\n"
          ],
          "name": "stdout"
        }
      ]
    },
    {
      "cell_type": "markdown",
      "metadata": {
        "id": "-NOTT_Y0rN2m"
      },
      "source": [
        "# **Loop though the CATEGORIES.**"
      ]
    },
    {
      "cell_type": "code",
      "metadata": {
        "id": "Lyu00v5LpzdO"
      },
      "source": [
        "# Create empty lists data & labels.\r\n",
        "# Append all images into the data list\r\n",
        "# Apples image lables (with/without mask) into the label list\r\n",
        "data = []\r\n",
        "labels = []"
      ],
      "execution_count": 7,
      "outputs": []
    },
    {
      "cell_type": "code",
      "metadata": {
        "colab": {
          "base_uri": "https://localhost:8080/"
        },
        "id": "M2xOLS8Cp1Xk",
        "outputId": "e01b5641-81d8-46e2-dda1-1e84ce6e690e"
      },
      "source": [
        "\r\n",
        "for category in CATEGORIES:\r\n",
        "\t#Using os.path.join, join the directory and the category. I.e. Directory\\with Mask, Directory/without Mask\r\n",
        "    path = os.path.join(DIRECTORY, category)\r\n",
        "    for img in os.listdir(path): #os.listdir lists all the images in the directory.\r\n",
        "    \timg_path = os.path.join(path, img)\r\n",
        "    \timage = load_img(img_path, target_size=(224, 224)) #Reference Package Module: from tensorflow.keras.preprocessing.image import load_img. Set the target size to 224x224. This makes the model consistent.\r\n",
        "    \timage = img_to_array(image) #Reference Package Module: from tensorflow.keras.preprocessing.image import img_to_array. This converts the images to array.\r\n",
        "    \timage = preprocess_input(image) #This is related to mobilenets functionality.\r\n",
        "\r\n",
        "    \tdata.append(image)\r\n",
        "    \tlabels.append(category)"
      ],
      "execution_count": 8,
      "outputs": [
        {
          "output_type": "stream",
          "text": [
            "/usr/local/lib/python3.6/dist-packages/PIL/Image.py:932: UserWarning: Palette images with Transparency expressed in bytes should be converted to RGBA images\n",
            "  \"Palette images with Transparency expressed in bytes should be \"\n"
          ],
          "name": "stderr"
        }
      ]
    },
    {
      "cell_type": "code",
      "metadata": {
        "id": "IwX5xIffp5k2"
      },
      "source": [
        "# Now we have all the data (images) as Numerical values. But the labels (categories) are still alphabetical values (with/without mask).\r\n",
        "# Perform one-hot encoding on the labels\r\n",
        "lb = LabelBinarizer() #Reference Package Module: sklearn.preprocessing import LabelBinarizer\r\n",
        "labels = lb.fit_transform(labels)\r\n",
        "labels = to_categorical(labels)"
      ],
      "execution_count": 9,
      "outputs": []
    },
    {
      "cell_type": "code",
      "metadata": {
        "id": "yytHzuG2qGOF"
      },
      "source": [
        "#Using above functions, we convert the lables to categorical variables.\r\n",
        "\r\n",
        "data = np.array(data, dtype=\"float32\")\r\n",
        "labels = np.array(labels)\r\n",
        "\r\n",
        "(trainX, testX, trainY, testY) = train_test_split(data, labels,\r\n",
        "\ttest_size=0.20, stratify=labels, random_state=42)\r\n"
      ],
      "execution_count": 10,
      "outputs": []
    },
    {
      "cell_type": "code",
      "metadata": {
        "id": "4qK3fzsDqJvB"
      },
      "source": [
        "# construct the training image generator for data augmentation\r\n",
        "aug = ImageDataGenerator(\r\n",
        "\trotation_range=20,\r\n",
        "\tzoom_range=0.15,\r\n",
        "\twidth_shift_range=0.2,\r\n",
        "\theight_shift_range=0.2,\r\n",
        "\tshear_range=0.15,\r\n",
        "\thorizontal_flip=True,\r\n",
        "\tfill_mode=\"nearest\")"
      ],
      "execution_count": 11,
      "outputs": []
    },
    {
      "cell_type": "markdown",
      "metadata": {
        "id": "EQe1QCSErpoY"
      },
      "source": [
        "# **Load the MobileNetV2 network, ensuring the head FC layer sets are left off**"
      ]
    },
    {
      "cell_type": "code",
      "metadata": {
        "colab": {
          "base_uri": "https://localhost:8080/"
        },
        "id": "w4gzbQydqOHf",
        "outputId": "f67a20a8-0d87-424f-8a5b-b923a40ebc4f"
      },
      "source": [
        "\r\n",
        "baseModel = MobileNetV2(weights=\"imagenet\", include_top=False,\r\n",
        "\tinput_tensor=Input(shape=(224, 224, 3)))\r\n"
      ],
      "execution_count": 12,
      "outputs": [
        {
          "output_type": "stream",
          "text": [
            "WARNING:tensorflow:`input_shape` is undefined or non-square, or `rows` is not in [96, 128, 160, 192, 224]. Weights for input shape (224, 224) will be loaded as the default.\n",
            "Downloading data from https://storage.googleapis.com/tensorflow/keras-applications/mobilenet_v2/mobilenet_v2_weights_tf_dim_ordering_tf_kernels_1.0_224_no_top.h5\n",
            "9412608/9406464 [==============================] - 0s 0us/step\n"
          ],
          "name": "stdout"
        }
      ]
    },
    {
      "cell_type": "markdown",
      "metadata": {
        "id": "nUU9j9J6rh9-"
      },
      "source": [
        "# **Construct the head of the model that will be placed on top of the base model**"
      ]
    },
    {
      "cell_type": "code",
      "metadata": {
        "id": "wNVfqMAfqUz3"
      },
      "source": [
        "headModel = baseModel.output\r\n",
        "headModel = AveragePooling2D(pool_size=(7, 7))(headModel)\r\n",
        "headModel = Flatten(name=\"flatten\")(headModel)\r\n",
        "headModel = Dense(128, activation=\"relu\")(headModel)\r\n",
        "headModel = Dropout(0.5)(headModel)\r\n",
        "headModel = Dense(2, activation=\"softmax\")(headModel)\r\n"
      ],
      "execution_count": 13,
      "outputs": []
    },
    {
      "cell_type": "markdown",
      "metadata": {
        "id": "KtvgX9osrcIu"
      },
      "source": [
        "# **Place the head FC model on top of the base model (this will becomethe actual model we will train)**"
      ]
    },
    {
      "cell_type": "code",
      "metadata": {
        "id": "Oh2mnoDUqYfC"
      },
      "source": [
        "model = Model(inputs=baseModel.input, outputs=headModel)\r\n"
      ],
      "execution_count": 14,
      "outputs": []
    },
    {
      "cell_type": "code",
      "metadata": {
        "id": "zvK_URxVqavB"
      },
      "source": [
        "# loop over all layers in the base model and freeze them so they will\r\n",
        "# *not* be updated during the first training process\r\n",
        "for layer in baseModel.layers:\r\n",
        "\tlayer.trainable = False"
      ],
      "execution_count": 15,
      "outputs": []
    },
    {
      "cell_type": "code",
      "metadata": {
        "colab": {
          "base_uri": "https://localhost:8080/"
        },
        "id": "NYIP90uhqcLL",
        "outputId": "60365bf8-69e2-4123-f0f5-bc01f940c017"
      },
      "source": [
        "# compile our model\r\n",
        "print(\"[INFO] compiling model...\")\r\n",
        "opt = Adam(lr=INIT_LR, decay=INIT_LR / EPOCHS)\r\n",
        "model.compile(loss=\"binary_crossentropy\", optimizer=opt,\r\n",
        "\tmetrics=[\"accuracy\"])"
      ],
      "execution_count": 16,
      "outputs": [
        {
          "output_type": "stream",
          "text": [
            "[INFO] compiling model...\n"
          ],
          "name": "stdout"
        }
      ]
    },
    {
      "cell_type": "code",
      "metadata": {
        "colab": {
          "base_uri": "https://localhost:8080/"
        },
        "id": "MYInvrWBqdk0",
        "outputId": "a496c384-21dc-45ba-a8cb-41d7de7d4ab3"
      },
      "source": [
        "# train the head of the network\r\n",
        "print(\"[INFO] training head...\")\r\n",
        "H = model.fit(\r\n",
        "\taug.flow(trainX, trainY, batch_size=BS),\r\n",
        "\tsteps_per_epoch=len(trainX) // BS,\r\n",
        "\tvalidation_data=(testX, testY),\r\n",
        "\tvalidation_steps=len(testX) // BS,\r\n",
        "\tepochs=EPOCHS)"
      ],
      "execution_count": 17,
      "outputs": [
        {
          "output_type": "stream",
          "text": [
            "[INFO] training head...\n",
            "Epoch 1/15\n",
            "95/95 [==============================] - 41s 338ms/step - loss: 0.6070 - accuracy: 0.6941 - val_loss: 0.1577 - val_accuracy: 0.9778\n",
            "Epoch 2/15\n",
            "95/95 [==============================] - 31s 325ms/step - loss: 0.1771 - accuracy: 0.9571 - val_loss: 0.0874 - val_accuracy: 0.9857\n",
            "Epoch 3/15\n",
            "95/95 [==============================] - 31s 321ms/step - loss: 0.1002 - accuracy: 0.9781 - val_loss: 0.0620 - val_accuracy: 0.9896\n",
            "Epoch 4/15\n",
            "95/95 [==============================] - 31s 324ms/step - loss: 0.0837 - accuracy: 0.9763 - val_loss: 0.0529 - val_accuracy: 0.9817\n",
            "Epoch 5/15\n",
            "95/95 [==============================] - 31s 323ms/step - loss: 0.0725 - accuracy: 0.9780 - val_loss: 0.0444 - val_accuracy: 0.9909\n",
            "Epoch 6/15\n",
            "95/95 [==============================] - 31s 324ms/step - loss: 0.0696 - accuracy: 0.9757 - val_loss: 0.0423 - val_accuracy: 0.9909\n",
            "Epoch 7/15\n",
            "95/95 [==============================] - 31s 324ms/step - loss: 0.0562 - accuracy: 0.9885 - val_loss: 0.0385 - val_accuracy: 0.9922\n",
            "Epoch 8/15\n",
            "95/95 [==============================] - 31s 324ms/step - loss: 0.0467 - accuracy: 0.9861 - val_loss: 0.0353 - val_accuracy: 0.9909\n",
            "Epoch 9/15\n",
            "95/95 [==============================] - 31s 321ms/step - loss: 0.0432 - accuracy: 0.9834 - val_loss: 0.0358 - val_accuracy: 0.9870\n",
            "Epoch 10/15\n",
            "95/95 [==============================] - 31s 322ms/step - loss: 0.0398 - accuracy: 0.9883 - val_loss: 0.0331 - val_accuracy: 0.9870\n",
            "Epoch 11/15\n",
            "95/95 [==============================] - 30s 320ms/step - loss: 0.0445 - accuracy: 0.9903 - val_loss: 0.0302 - val_accuracy: 0.9922\n",
            "Epoch 12/15\n",
            "95/95 [==============================] - 31s 324ms/step - loss: 0.0409 - accuracy: 0.9875 - val_loss: 0.0296 - val_accuracy: 0.9935\n",
            "Epoch 13/15\n",
            "95/95 [==============================] - 31s 322ms/step - loss: 0.0389 - accuracy: 0.9884 - val_loss: 0.0294 - val_accuracy: 0.9909\n",
            "Epoch 14/15\n",
            "95/95 [==============================] - 31s 324ms/step - loss: 0.0381 - accuracy: 0.9919 - val_loss: 0.0285 - val_accuracy: 0.9961\n",
            "Epoch 15/15\n",
            "95/95 [==============================] - 31s 324ms/step - loss: 0.0290 - accuracy: 0.9899 - val_loss: 0.0263 - val_accuracy: 0.9961\n"
          ],
          "name": "stdout"
        }
      ]
    },
    {
      "cell_type": "markdown",
      "metadata": {
        "id": "l04lKbrw5a_S"
      },
      "source": [
        "# **Predicting now yeah almost done**"
      ]
    },
    {
      "cell_type": "code",
      "metadata": {
        "colab": {
          "base_uri": "https://localhost:8080/"
        },
        "id": "T2Q1i9RnqhZQ",
        "outputId": "2e117d63-3706-4126-92d1-95e47c531104"
      },
      "source": [
        "# make predictions on the testing set\r\n",
        "print(\"[INFO] evaluating network...\")\r\n",
        "predIdxs = model.predict(testX, batch_size=BS)\r\n"
      ],
      "execution_count": 18,
      "outputs": [
        {
          "output_type": "stream",
          "text": [
            "[INFO] evaluating network...\n"
          ],
          "name": "stdout"
        }
      ]
    },
    {
      "cell_type": "code",
      "metadata": {
        "id": "qc4rwOdKqjMy"
      },
      "source": [
        "# for each image in the testing set we need to find the index of the\r\n",
        "# label with corresponding largest predicted probability\r\n",
        "predIdxs = np.argmax(predIdxs, axis=1)\r\n"
      ],
      "execution_count": 19,
      "outputs": []
    },
    {
      "cell_type": "code",
      "metadata": {
        "colab": {
          "base_uri": "https://localhost:8080/"
        },
        "id": "WZjcbwpmqkbm",
        "outputId": "6ff93c45-e093-4466-817d-b6b56d589a1d"
      },
      "source": [
        "# show a nicely formatted classification report\r\n",
        "print(classification_report(testY.argmax(axis=1), predIdxs,\r\n",
        "\ttarget_names=lb.classes_))"
      ],
      "execution_count": 20,
      "outputs": [
        {
          "output_type": "stream",
          "text": [
            "              precision    recall  f1-score   support\n",
            "\n",
            "   with_mask       1.00      0.99      1.00       383\n",
            "without_mask       0.99      1.00      1.00       384\n",
            "\n",
            "    accuracy                           1.00       767\n",
            "   macro avg       1.00      1.00      1.00       767\n",
            "weighted avg       1.00      1.00      1.00       767\n",
            "\n"
          ],
          "name": "stdout"
        }
      ]
    },
    {
      "cell_type": "code",
      "metadata": {
        "colab": {
          "base_uri": "https://localhost:8080/"
        },
        "id": "R5_8JG_-qlpL",
        "outputId": "dc4da94e-cc97-44a6-fb21-1b968bf1b56f"
      },
      "source": [
        "# serialize the model to disk\r\n",
        "print(\"[INFO] saving mask detector model...\")\r\n",
        "model.save(\"mask_detector_version_moez.model\", save_format=\"h5\")\r\n"
      ],
      "execution_count": 21,
      "outputs": [
        {
          "output_type": "stream",
          "text": [
            "[INFO] saving mask detector model...\n"
          ],
          "name": "stdout"
        }
      ]
    },
    {
      "cell_type": "code",
      "metadata": {
        "colab": {
          "base_uri": "https://localhost:8080/",
          "height": 316
        },
        "id": "Dasqywxpqmzz",
        "outputId": "f5a6ad34-c14b-41ce-f301-7e0a6fac7095"
      },
      "source": [
        "# plot the training loss and accuracy\r\n",
        "N = EPOCHS\r\n",
        "plt.style.use(\"ggplot\")\r\n",
        "plt.figure()\r\n",
        "plt.plot(np.arange(0, N), H.history[\"loss\"], label=\"train_loss\")\r\n",
        "plt.plot(np.arange(0, N), H.history[\"val_loss\"], label=\"val_loss\")\r\n",
        "plt.plot(np.arange(0, N), H.history[\"accuracy\"], label=\"train_acc\")\r\n",
        "plt.plot(np.arange(0, N), H.history[\"val_accuracy\"], label=\"val_acc\")\r\n",
        "plt.title(\"Training Loss and Accuracy\")\r\n",
        "plt.xlabel(\"Epoch #\")\r\n",
        "plt.ylabel(\"Loss/Accuracy\")\r\n",
        "plt.legend(loc=\"lower left\")"
      ],
      "execution_count": 22,
      "outputs": [
        {
          "output_type": "execute_result",
          "data": {
            "text/plain": [
              "<matplotlib.legend.Legend at 0x7fb8f5a5b7f0>"
            ]
          },
          "metadata": {
            "tags": []
          },
          "execution_count": 22
        },
        {
          "output_type": "display_data",
          "data": {
            "image/png": "[encoded data removed]",
            "text/plain": [
              "<Figure size 432x288 with 1 Axes>"
            ]
          },
          "metadata": {
            "tags": []
          }
        }
      ]
    },
    {
      "cell_type": "markdown",
      "metadata": {
        "id": "NL1lchhr5IMS"
      },
      "source": [
        "# **Wiiiiiw Good model over here almost accuracy 100% on train and test**"
      ]
    }
  ]
}